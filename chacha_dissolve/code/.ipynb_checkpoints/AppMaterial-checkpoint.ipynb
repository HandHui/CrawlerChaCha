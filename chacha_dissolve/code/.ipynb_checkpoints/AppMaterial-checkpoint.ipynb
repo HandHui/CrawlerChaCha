{
 "cells": [
  {
   "cell_type": "code",
   "execution_count": 2,
   "metadata": {},
   "outputs": [
    {
     "name": "stderr",
     "output_type": "stream",
     "text": [
      "C:\\Users\\as\\Anaconda3\\lib\\site-packages\\smart_open\\ssh.py:34: UserWarning: paramiko missing, opening SSH/SCP/SFTP paths will be disabled.  `pip install paramiko` to suppress\n",
      "  warnings.warn('paramiko missing, opening SSH/SCP/SFTP paths will be disabled.  `pip install paramiko` to suppress')\n"
     ]
    }
   ],
   "source": [
    "from util import *\n",
    "import requests"
   ]
  },
  {
   "cell_type": "code",
   "execution_count": 3,
   "metadata": {},
   "outputs": [],
   "source": [
    "from bs4 import BeautifulSoup"
   ]
  },
  {
   "cell_type": "code",
   "execution_count": 4,
   "metadata": {},
   "outputs": [],
   "source": [
    "import pyhanlp\n",
    "from pyhanlp import *"
   ]
  },
  {
   "cell_type": "code",
   "execution_count": 44,
   "metadata": {},
   "outputs": [],
   "source": [
    "class AppMaterial2:\n",
    "    \n",
    "    def __init__(self,url):\n",
    "        \n",
    "        self.url = url\n",
    "        self.mbody = \"\"\n",
    "        self.material = \"\"\n",
    "        \n",
    "    def getCon(self):\n",
    "        headers = {'User-Agent':'Mozilla/5.0 (Windows NT 6.1; Win64; x64) AppleWebKit/537.36 (KHTML, like Gecko) Chrome/62.0.3202.62 Safari/537.36'}\n",
    "        r = requests.get(self.url,headers=headers, timeout=6)\n",
    "        s = r.content.decode('utf-8')  ## decode\n",
    "        return s\n",
    "    \n",
    "    def handleBody(self):\n",
    "        \n",
    "        s = self.getCon()\n",
    "        soup = BeautifulSoup(s,'lxml')\n",
    "        mbody = soup.find_all(class_='detail-content')\n",
    "        if len(mbody) == 0:\n",
    "            print('No Main Body')\n",
    "            print(self.url)\n",
    "            mbody = \"\"\n",
    "        #     return\n",
    "        mbody = str(mbody[0])\n",
    "        self.mbody = mbody\n",
    "        return mbody\n",
    "    \n",
    "    def getSpans(self,title):\n",
    "        \n",
    "        sentence = HanLP.parseDependency(title)\n",
    "        print(sentence)\n",
    "        tbin = getBin(sentence)\n",
    "        print(tbin)\n",
    "        mbody = self.handleBody()\n",
    "        print(mbody)\n",
    "        spans = get_inbrac(tbin,mbody)\n",
    "#         print(mbody)\n",
    "        print(spans)\n",
    "        span = spans[0]\n",
    "        tpan = span[1]-span[0]-len(title)\n",
    "        if abs(tpan) < 10:\n",
    "#             print('00000000')\n",
    "            tn = getNxSpan(mbody,spans[0])\n",
    "        else:\n",
    "            tn = spans[0]\n",
    "        return tn\n",
    "    \n",
    "    def handleM(self,title):\n",
    "        span = self.getSpans(title)\n",
    "#         print(span)\n",
    "        self.material = self.mbody[span[0]:span[1]]"
   ]
  },
  {
   "cell_type": "code",
   "execution_count": 45,
   "metadata": {},
   "outputs": [],
   "source": [
    "## 本金损失补偿 最后一个为 核心关系\n",
    "##  机器换人           最后一个为 核心关系 'https://www.chacha.top/sup_policy?id=48371700fab06412c7a0' '天津市支持实施工业企业 “机器换人”工程'\n",
    "## 改造补助 成都市武侯区楼宇节能环保改造补助 https://www.chacha.top/sup_policy?id=56bf01ea58e52e506f5e"
   ]
  },
  {
   "cell_type": "code",
   "execution_count": null,
   "metadata": {},
   "outputs": [],
   "source": [
    "class AppMaterial:\n",
    "    \n",
    "    def __init__(self,url):\n",
    "        \n",
    "        self.url = url\n",
    "        self.mbody = \"\"\n",
    "        self.material = \"\"\n",
    "        \n",
    "    def getCon(self):\n",
    "        headers = {'User-Agent':'Mozilla/5.0 (Windows NT 6.1; Win64; x64) AppleWebKit/537.36 (KHTML, like Gecko) Chrome/62.0.3202.62 Safari/537.36'}\n",
    "        r = requests.get(self.url,headers=headers, timeout=6)\n",
    "        s = r.content.decode('utf-8')  ## decode\n",
    "        return s\n",
    "    \n",
    "    def handleBody(self):\n",
    "        \n",
    "        s = self.getCon()\n",
    "        soup = BeautifulSoup(s,'lxml')\n",
    "        mbody = soup.find_all(class_='detail-content')\n",
    "        if len(mbody) == 0:\n",
    "            print('No Main Body')\n",
    "            print(self.url)\n",
    "            mbody = \"\"\n",
    "        #     return\n",
    "        mbody = str(mbody[0])\n",
    "        self.mbody = mbody\n",
    "        return mbody\n",
    "    \n",
    "    \n",
    "    def handleM(self,title):\n",
    "        mbody = self.handleBody()\n",
    "        if \"申请材料\" in mbody:\n",
    "            print(self.url)\n",
    "#         print(span)\n",
    "        self.material = \"\""
   ]
  },
  {
   "cell_type": "code",
   "execution_count": 48,
   "metadata": {},
   "outputs": [
    {
     "name": "stdout",
     "output_type": "stream",
     "text": [
      "1\t成都市武侯区\t成都市武侯区\tns\tns\t_\t2\t主谓关系\t_\t_\n",
      "2\t鼓励\t鼓励\tv\tv\t_\t0\t核心关系\t_\t_\n",
      "3\t楼宇\t楼宇\tn\tn\t_\t2\t兼语\t_\t_\n",
      "4\t参加\t参加\tv\tv\t_\t2\t动宾关系\t_\t_\n",
      "5\t标准化\t标准化\tv\tv\t_\t6\t定中关系\t_\t_\n",
      "6\t建设\t建设\tv\tvn\t_\t4\t动宾关系\t_\t_\n",
      "7\t试点\t试点\tn\tn\t_\t6\t动宾关系\t_\t_\n",
      "8\t奖励\t奖励\tv\tv\t_\t6\t并列关系\t_\t_\n",
      "\n",
      "标准化建设试点奖励\n",
      "<div class=\"detail-content\" style=\"line-height: 28px; font-size:14px\"><span><p style=\"line-height: 2em;\">各街道办事处，区政府各部门：</p><p style=\"text-indent: 2em; line-height: 2em;\">《成都市武侯区推动楼宇经济高质量发展若干扶持政策》已经七届区委59次常委会议和区政府第35次常务会议审议通过。<span style=\"text-indent: 2em;\">现印发给你们，请认真遵照执行。</span></p><p style=\"text-indent: 2em;\"><br/></p><p style=\"text-align: right; line-height: 2em;\">成都市武侯区人民政府</p><p style=\"text-align: right; line-height: 2em;\">2018年6月7日</p><p><br/></p><p style=\"text-align: center; line-height: 2em;\">成都市武侯区推动楼宇经济高质量发展</p><p style=\"text-align: center; line-height: 2em;\">若干扶持政策</p><p><br/></p><p style=\"text-indent: 2em; line-height: 2em;\">为深入贯彻落实高质量发展要求，推进楼宇服务产业生态圈<span style=\"text-indent: 2em;\">建设，实现武侯区楼宇经济高质量发展，根据《成都市人民政府办公厅关于印发成都市进一步疏解中部区域非核心功能高品质提升城市能级若干政策的通知》（成办函〔2018〕41 号）、《成都市加快服务业发展支持政策》（成商发〔2016〕152号）、《成都市武侯区关于实施产业立区战略若干政策的意见》（成武府发〔2017〕1号）等文件精神，结合我区实际，制定本政策。</span></p><p style=\"text-indent: 2em; line-height: 2em;\">第一章  总则</p><p style=\"text-indent: 2em; line-height: 2em;\">第一条  本政策所指楼宇为纳入武侯区楼宇经济信息管理系统采集范围，建筑面积在2万平方米以上的商务楼宇、工业总部楼宇、具有商务功能的商业综合体及特色商业街区（不含宾馆酒店、商场超市、公寓及自建自用楼宇）。</p><p style=\"text-indent: 2em; line-height: 2em;\">第二条  本政策扶持对象为工商注册、税收登记和统计关系均在武侯区的楼宇业主单位、楼宇运营管理单位等楼宇经济市场主体。</p></span><span><p style=\"text-indent: 2em; line-height: 2em;\">第二章  扶持政策</p><p style=\"text-indent: 2em; line-height: 2em;\">第三条  鼓励楼宇提升硬件服务品质</p><p style=\"text-indent: 2em; line-height: 2em;\">（一）开展楼宇外立面改造，给予该工程项目审计决算金额20%的资金补助，补助总额不超过100万元。</p></span><span><p style=\"text-indent: 2em; line-height: 2em;\">（二）开展楼宇公共部位（指大堂、走廊等内部公共开放空<span style=\"text-indent: 2em;\">间）改造，给予该工程项目审计决算金额</span><span style=\"text-indent: 2em;\"> 20%的资金补助，补助</span><span style=\"text-indent: 2em;\">总额不超过</span><span style=\"text-indent: 2em;\">100</span><span style=\"text-indent: 2em;\">万元。</span></p></span><span><p style=\"text-indent: 2em; line-height: 2em;\">（三）开展楼宇电梯改造更换，给予该工程项目审计决算金<span style=\"text-indent: 2em;\">额</span><span style=\"text-indent: 2em;\">20%</span><span style=\"text-indent: 2em;\">的资金补助，其中单部电梯补助金额不超过</span><span style=\"text-indent: 2em;\">10</span><span style=\"text-indent: 2em;\">万元，单栋</span><span style=\"text-indent: 2em;\">楼宇补助总额不超过</span><span style=\"text-indent: 2em;\">50</span><span style=\"text-indent: 2em;\">万元。</span></p></span><span><p style=\"text-indent: 2em; line-height: 2em;\">（四）开展楼宇消防、安防系统改造，给予该工程项目审计<span style=\"text-indent: 2em;\">决算金额</span><span style=\"text-indent: 2em;\">20%</span><span style=\"text-indent: 2em;\">的资金补助，补助总额不超过</span><span style=\"text-indent: 2em;\">50</span><span style=\"text-indent: 2em;\">万元。</span></p></span><span><p style=\"text-indent: 2em; line-height: 2em;\">（五）开展楼宇停车系统改造，给予该工程项目审计决算金<span style=\"text-indent: 2em;\">额</span><span style=\"text-indent: 2em;\">20%</span><span style=\"text-indent: 2em;\">的资金补助，补助总额不超过</span><span style=\"text-indent: 2em;\">50</span><span style=\"text-indent: 2em;\">万元。</span></p></span><span><p style=\"text-indent: 2em; line-height: 2em;\">（六）开展楼宇节能环保改造，给予该工程项目审计决算金<span style=\"text-indent: 2em;\">额</span><span style=\"text-indent: 2em;\">20%</span><span style=\"text-indent: 2em;\">的资金补助，补助总额不超过</span><span style=\"text-indent: 2em;\">50</span><span style=\"text-indent: 2em;\">万元。实施更新改造并通</span><span style=\"text-indent: 2em;\">过</span><span style=\"text-indent: 2em;\">“LEED”</span><span style=\"text-indent: 2em;\">等绿色建筑认证的，额外给予</span><span style=\"text-indent: 2em;\">30</span><span style=\"text-indent: 2em;\">万元的一次性奖励。</span></p></span><span><p style=\"text-indent: 2em; line-height: 2em;\">（七）开展楼宇信息化和智能改建，给予该工程项目审计决<span style=\"text-indent: 2em;\">算金额的</span><span style=\"text-indent: 2em;\">20%</span><span style=\"text-indent: 2em;\">的资金补助，总额不超过</span><span style=\"text-indent: 2em;\">50</span><span style=\"text-indent: 2em;\">万元。实施更新改造并</span><span style=\"text-indent: 2em;\">通过</span><span style=\"text-indent: 2em;\">“5A</span><span style=\"text-indent: 2em;\">智能化楼宇</span><span style=\"text-indent: 2em;\">”</span><span style=\"text-indent: 2em;\">认证的，额外给予</span><span style=\"text-indent: 2em;\">30</span><span style=\"text-indent: 2em;\">万元的一次性奖励。</span></p></span><span><p style=\"text-indent: 2em; line-height: 2em;\">第四条  鼓励楼宇优化提升管理服务水平</p><p style=\"text-indent: 2em; line-height: 2em;\">（一）提升物业管理资质，楼宇物业管理资质由 3 级升为 2<span style=\"text-indent: 2em;\">级、</span><span style=\"text-indent: 2em;\">2</span><span style=\"text-indent: 2em;\">级升为</span><span style=\"text-indent: 2em;\">1</span><span style=\"text-indent: 2em;\">级的，分别给予</span><span style=\"text-indent: 2em;\">5</span><span style=\"text-indent: 2em;\">万元和</span><span style=\"text-indent: 2em;\">10</span><span style=\"text-indent: 2em;\">万元的一次性奖励。</span></p></span><span><p style=\"text-indent: 2em; line-height: 2em;\">（二）开展标准化建设，积极参加成都市楼宇经济标准化建<span style=\"text-indent: 2em;\">设试点工作，并通过国家标准委相关认证的楼宇，给予</span><span style=\"text-indent: 2em;\">30</span><span style=\"text-indent: 2em;\">万元的</span><span style=\"text-indent: 2em;\">一次性奖励。</span></p></span><span><p style=\"text-indent: 2em; line-height: 2em;\">（三）参加楼宇等级评定，获得成都市楼宇等级评定委员会<span style=\"text-indent: 2em;\">“</span><span style=\"text-indent: 2em;\">成都市甲级商务写字楼</span><span style=\"text-indent: 2em;\">”</span><span style=\"text-indent: 2em;\">和</span><span style=\"text-indent: 2em;\">“</span><span style=\"text-indent: 2em;\">成都市超甲级商务写字楼</span><span style=\"text-indent: 2em;\">”</span><span style=\"text-indent: 2em;\">称号</span><span style=\"text-indent: 2em;\">的，分别给予</span><span style=\"text-indent: 2em;\">30</span><span style=\"text-indent: 2em;\">万元和</span><span style=\"text-indent: 2em;\">50</span><span style=\"text-indent: 2em;\">万元的一次性奖励。其中，由</span><span style=\"text-indent: 2em;\">“</span><span style=\"text-indent: 2em;\">成都</span><span style=\"text-indent: 2em;\">市甲级商务写字楼</span><span style=\"text-indent: 2em;\">”</span><span style=\"text-indent: 2em;\">升级为</span><span style=\"text-indent: 2em;\">“</span><span style=\"text-indent: 2em;\">成都市超甲级商务写字楼</span><span style=\"text-indent: 2em;\">”</span><span style=\"text-indent: 2em;\">的，给</span><span style=\"text-indent: 2em;\">予</span><span style=\"text-indent: 2em;\">80</span><span style=\"text-indent: 2em;\">万元的一次性奖励。</span></p></span><span><p style=\"text-indent: 2em; line-height: 2em;\">第五条  鼓励楼宇服务产业生态圈能级</p><p style=\"text-indent: 2em; line-height: 2em;\">（一）开展楼宇应用场景建设，新建或改扩建楼宇会议中心、<span style=\"text-indent: 2em;\">商务中心、共享空间以及员工餐厅、书吧、便利店、健身房、咖</span><span style=\"text-indent: 2em;\">啡吧等公共应用场景，给予该工程项目审计决算金额</span><span style=\"text-indent: 2em;\"> 20%</span><span style=\"text-indent: 2em;\">的资金</span><span style=\"text-indent: 2em;\">补助，单项补助总额不超过</span><span style=\"text-indent: 2em;\">50</span><span style=\"text-indent: 2em;\">万元。</span></p></span><span><p style=\"text-indent: 2em; line-height: 2em;\">（二）支持楼宇增加自持比例，新建楼宇保持产权自持比例<span style=\"text-indent: 2em;\">为</span><span style=\"text-indent: 2em;\">100%</span><span style=\"text-indent: 2em;\">、</span><span style=\"text-indent: 2em;\">70%</span><span style=\"text-indent: 2em;\">、</span><span style=\"text-indent: 2em;\">50%</span><span style=\"text-indent: 2em;\">并维持</span><span style=\"text-indent: 2em;\">3</span><span style=\"text-indent: 2em;\">年不变，且属地经营的，在投入运营</span><span style=\"text-indent: 2em;\">并产生税收后，分别给予楼宇业主</span><span style=\"text-indent: 2em;\">100</span><span style=\"text-indent: 2em;\">万元、</span><span style=\"text-indent: 2em;\">70</span><span style=\"text-indent: 2em;\">万元、</span><span style=\"text-indent: 2em;\">50</span><span style=\"text-indent: 2em;\">万元的</span><span style=\"text-indent: 2em;\">一次性补助。</span></p></span><span><p style=\"text-indent: 2em; line-height: 2em;\">（三）支持楼宇开展集约经营，通过购买取得存量楼宇产权<span style=\"text-indent: 2em;\">并属地经营，面积达到</span><span style=\"text-indent: 2em;\">3</span><span style=\"text-indent: 2em;\">万平方米、</span><span style=\"text-indent: 2em;\">2</span><span style=\"text-indent: 2em;\">万平方米、</span><span style=\"text-indent: 2em;\">1</span><span style=\"text-indent: 2em;\">万平方米的，</span><span style=\"text-indent: 2em;\">分别给予购买方</span><span style=\"text-indent: 2em;\">100</span><span style=\"text-indent: 2em;\">万元、</span><span style=\"text-indent: 2em;\">70</span><span style=\"text-indent: 2em;\">万元、</span><span style=\"text-indent: 2em;\">50</span><span style=\"text-indent: 2em;\">万元的一次性补助；通过</span><span style=\"text-indent: 2em;\">租赁方式取得存量楼宇</span><span style=\"text-indent: 2em;\"> 5 </span><span style=\"text-indent: 2em;\">年以上使用权且属地经营，面积达到 </span><span style=\"text-indent: 2em;\">3</span><span style=\"text-indent: 2em;\">万平方米、</span><span style=\"text-indent: 2em;\">2</span><span style=\"text-indent: 2em;\">万平方米、</span><span style=\"text-indent: 2em;\">1</span><span style=\"text-indent: 2em;\">万平方米的，分别给予承租方</span><span style=\"text-indent: 2em;\">80</span><span style=\"text-indent: 2em;\">万元、</span><span style=\"text-indent: 2em;\">60</span><span style=\"text-indent: 2em;\">万元、</span><span style=\"text-indent: 2em;\">40</span><span style=\"text-indent: 2em;\">万元的一次性补助。</span></p></span><span><p style=\"text-indent: 2em; line-height: 2em;\">（四）支持打造专业特色楼宇</p><p style=\"text-indent: 2em; line-height: 2em;\">1. 从2017年1月1日起，对列入武侯区专业楼宇培育计划，<span style=\"text-indent: 2em;\">且与区楼宇经济主管部门、产业主管部门和属地街道签订专业楼</span><span style=\"text-indent: 2em;\">宇联合打造协议的，一次性给予楼宇业主或运营管理单位</span><span style=\"text-indent: 2em;\">20</span><span style=\"text-indent: 2em;\">万元</span><span style=\"text-indent: 2em;\">培育资金，用于定向招商推介和公共服务平台建设。</span></p></span><span><p style=\"text-indent: 2em; line-height: 2em;\">2. 对楼宇整体入驻率达到70%以上，楼宇内入驻企业属地注<span style=\"text-indent: 2em;\">册率达到</span><span style=\"text-indent: 2em;\">60%</span><span style=\"text-indent: 2em;\">以上，同一行业及其关联企业聚集度达到</span><span style=\"text-indent: 2em;\">60%</span><span style=\"text-indent: 2em;\">以上，</span><span style=\"text-indent: 2em;\">且被认定为专业楼宇的，给予楼宇业主或运营管理单位</span><span style=\"text-indent: 2em;\">50</span><span style=\"text-indent: 2em;\">万元的</span><span style=\"text-indent: 2em;\">一次性运营补贴。</span></p></span><span><p style=\"text-indent: 2em; line-height: 2em;\">第六条  鼓励楼宇提升地方经济发展质量</p><p style=\"text-indent: 2em; line-height: 2em;\">（一）支持提升楼宇地方贡献规模，在武侯区内的写字楼项<span style=\"text-indent: 2em;\">目（不含自建自用），若入驻企业在武侯区年度经济贡献总额首次</span><span style=\"text-indent: 2em;\">超过１亿元、</span><span style=\"text-indent: 2em;\">2</span><span style=\"text-indent: 2em;\">亿元、</span><span style=\"text-indent: 2em;\">3</span><span style=\"text-indent: 2em;\">亿元、</span><span style=\"text-indent: 2em;\">5</span><span style=\"text-indent: 2em;\">亿元的，分别给予楼宇业主或运</span><span style=\"text-indent: 2em;\">营管理单位</span><span style=\"text-indent: 2em;\">30</span><span style=\"text-indent: 2em;\">万元、</span><span style=\"text-indent: 2em;\">60</span><span style=\"text-indent: 2em;\">万元、</span><span style=\"text-indent: 2em;\">100</span><span style=\"text-indent: 2em;\">万元、</span><span style=\"text-indent: 2em;\">150</span><span style=\"text-indent: 2em;\">万元的一次性奖励，</span><span style=\"text-indent: 2em;\">在未达到下一级奖励台阶前，年度经济贡献总额每增长</span><span style=\"text-indent: 2em;\">20%,</span><span style=\"text-indent: 2em;\">给予</span><span style=\"text-indent: 2em;\">10</span><span style=\"text-indent: 2em;\">万元的一次性奖励。此外，对其运营管理单位不超过</span><span style=\"text-indent: 2em;\">5</span><span style=\"text-indent: 2em;\">名高管</span><span style=\"text-indent: 2em;\">人员个人，可按个人当年对武侯区实际经济贡献的</span><span style=\"text-indent: 2em;\">100%</span><span style=\"text-indent: 2em;\">为参照数</span><span style=\"text-indent: 2em;\">给予一次性奖励。</span></p></span><span><p style=\"text-indent: 2em; line-height: 2em;\">（二）支持提高楼宇属地注册率，新建成投运的写字楼项目<span style=\"text-indent: 2em;\">（不含自建自用），三年内整体入住率在</span><span style=\"text-indent: 2em;\">90%</span><span style=\"text-indent: 2em;\">以上，且属地注册率</span><span style=\"text-indent: 2em;\">达到</span><span style=\"text-indent: 2em;\">80%</span><span style=\"text-indent: 2em;\">以上的，给予楼宇业主或运营管理单位</span><span style=\"text-indent: 2em;\">50</span><span style=\"text-indent: 2em;\">万元的一次性</span><span style=\"text-indent: 2em;\">运营补贴，在此基础上属地注册率每增长</span><span style=\"text-indent: 2em;\"> 5%</span><span style=\"text-indent: 2em;\">，再给予 </span><span style=\"text-indent: 2em;\">20 </span><span style=\"text-indent: 2em;\">万元的</span><span style=\"text-indent: 2em;\">一次性奖励，最高不超过</span><span style=\"text-indent: 2em;\">100</span><span style=\"text-indent: 2em;\">万元；存量楼宇（不含自建自用）</span><span style=\"text-indent: 2em;\">入住率在</span><span style=\"text-indent: 2em;\">90%</span><span style=\"text-indent: 2em;\">以上，且属地注册率达到</span><span style=\"text-indent: 2em;\">70%</span><span style=\"text-indent: 2em;\">以上的，属地注册率较</span><span style=\"text-indent: 2em;\">上一年度每增长</span><span style=\"text-indent: 2em;\">5%</span><span style=\"text-indent: 2em;\">，给予</span><span style=\"text-indent: 2em;\">20</span><span style=\"text-indent: 2em;\">万元的一次性奖励，最高不超过</span><span style=\"text-indent: 2em;\">100</span><span style=\"text-indent: 2em;\">万元。此外，对其运营管理单位不超过</span><span style=\"text-indent: 2em;\">5</span><span style=\"text-indent: 2em;\">名高管人员个人，可按</span><span style=\"text-indent: 2em;\">个人当年对武侯区实际经济贡献的</span><span style=\"text-indent: 2em;\"> 100%</span><span style=\"text-indent: 2em;\">为参照数给予一次性奖</span><span style=\"text-indent: 2em;\">励。</span></p></span><span><p style=\"text-indent: 2em; line-height: 2em;\">（三）支持楼宇服务区域产业发展</p><p style=\"text-indent: 2em; line-height: 2em;\">1. 支持整合载体资源，为促进重大项目入驻楼宇，清退并<span style=\"text-indent: 2em;\">整合楼宇载体资源的，每整合</span><span style=\"text-indent: 2em;\">1</span><span style=\"text-indent: 2em;\">万平方米载体资源给予</span><span style=\"text-indent: 2em;\">30万元补</span><span style=\"text-indent: 2em;\">助，单栋楼宇最高补助不超过</span><span style=\"text-indent: 2em;\">100</span><span style=\"text-indent: 2em;\">万元。</span></p></span><span><p style=\"text-indent: 2em; line-height: 2em;\">2. 支持楼宇定制建设，凡待建、在建楼宇，为促进重大项<span style=\"text-indent: 2em;\">目入驻，按照项目方的要求，对楼宇进行定制建设的，每建成 1</span><span style=\"text-indent: 2em;\">万平方米给予</span><span style=\"text-indent: 2em;\">30</span><span style=\"text-indent: 2em;\">万元补助，单栋楼宇最高补助不超过</span><span style=\"text-indent: 2em;\">100</span><span style=\"text-indent: 2em;\">万元。</span></p></span><span><p style=\"text-indent: 2em; line-height: 2em;\">第三章  附则</p><p style=\"text-indent: 2em; line-height: 2em;\">第七条  涉及楼宇经济的重大事项，上述政策不能函盖的，<span style=\"text-indent: 2em;\">采取</span><span style=\"text-indent: 2em;\">“</span><span style=\"text-indent: 2em;\">一事一议</span><span style=\"text-indent: 2em;\">”</span><span style=\"text-indent: 2em;\">的办法研究解决。</span></p><p style=\"text-indent: 2em; line-height: 2em;\">第八条  投入楼宇改建的，单项投资金额不低于100万元或<span style=\"text-indent: 2em;\">总投资不低于</span><span style=\"text-indent: 2em;\">500</span><span style=\"text-indent: 2em;\">万元且纳入全区楼宇固定资产立项统计的方可</span><span style=\"text-indent: 2em;\">纳入补助对象，单栋楼宇补助总额不超过</span><span style=\"text-indent: 2em;\">500</span><span style=\"text-indent: 2em;\">万元，最终以工程</span><span style=\"text-indent: 2em;\">审计报告实际投入金额为准。</span></p><p style=\"text-indent: 2em; line-height: 2em;\">第九条  凡申报本政策扶持的楼宇，其申报时的楼宇属地注<span style=\"text-indent: 2em;\">册率应不低于本政策发布时的楼宇属地注册率。</span></p><p style=\"text-indent: 2em; line-height: 2em;\">第十条  凡享受本政策扶持的楼宇相关主体在武侯区正常<span style=\"text-indent: 2em;\">经营存续期不得低于</span><span style=\"text-indent: 2em;\">10</span><span style=\"text-indent: 2em;\">年或投资协议约定年限，在此期间如迁离</span><span style=\"text-indent: 2em;\">武侯区，原享受的扶持奖励资金须全额退回。</span></p><p style=\"text-indent: 2em; line-height: 2em;\">第十一条  对相关企业在政策扶持中弄虚作假、骗取扶持资<span style=\"text-indent: 2em;\">金的，除追缴全部扶持所得外，并依法追究法律责任。</span></p><p style=\"text-indent: 2em; line-height: 2em;\">第十二条  本政策所涉及的奖励、补助资金由武侯区产业发<span style=\"text-indent: 2em;\">展专项资金予以保障。</span></p><p style=\"text-indent: 2em; line-height: 2em;\">第十三条  本政策相关内容与《成都市武侯区关于实施产业<span style=\"text-indent: 2em;\">立区战略若干政策的意见》（成武府发〔</span><span style=\"text-indent: 2em;\">2017</span><span style=\"text-indent: 2em;\">〕</span><span style=\"text-indent: 2em;\">1</span><span style=\"text-indent: 2em;\">号）不一致的，</span><span style=\"text-indent: 2em;\">以本政策为准。</span></p><p style=\"text-indent: 2em; line-height: 2em;\">第十四条  本政策在执行过程中若遇国家、省、市调整相关<span style=\"text-indent: 2em;\">政策，以调整后的政策为准。</span></p><p style=\"text-indent: 2em; line-height: 2em;\">第十五条  本政策自发布之日起30日后施行，有效期三年，<span style=\"text-indent: 2em;\">凡涉及基准参照指标的数据均以发布之日为准。</span></p><p style=\"text-indent: 2em; line-height: 2em;\">第十六条  本政策由武侯区楼宇经济发展领导小组办公室<span style=\"text-indent: 2em;\">负责解释。</span></p></span></div>\n",
      "[]\n"
     ]
    },
    {
     "ename": "IndexError",
     "evalue": "list index out of range",
     "output_type": "error",
     "traceback": [
      "\u001b[1;31m---------------------------------------------------------------------------\u001b[0m",
      "\u001b[1;31mIndexError\u001b[0m                                Traceback (most recent call last)",
      "\u001b[1;32m<ipython-input-48-e251b643896a>\u001b[0m in \u001b[0;36m<module>\u001b[1;34m()\u001b[0m\n\u001b[0;32m      4\u001b[0m     \u001b[0mam\u001b[0m \u001b[1;33m=\u001b[0m \u001b[0mAppMaterial\u001b[0m\u001b[1;33m(\u001b[0m\u001b[0murl\u001b[0m\u001b[1;33m)\u001b[0m\u001b[1;33m\u001b[0m\u001b[0m\n\u001b[0;32m      5\u001b[0m     \u001b[0mtitle\u001b[0m \u001b[1;33m=\u001b[0m \u001b[1;34m'成都市武侯区鼓励楼宇参加标准化建设试点奖励'\u001b[0m\u001b[1;33m\u001b[0m\u001b[0m\n\u001b[1;32m----> 6\u001b[1;33m     \u001b[0mam\u001b[0m\u001b[1;33m.\u001b[0m\u001b[0mhandleM\u001b[0m\u001b[1;33m(\u001b[0m\u001b[0mtitle\u001b[0m\u001b[1;33m)\u001b[0m\u001b[1;33m\u001b[0m\u001b[0m\n\u001b[0m\u001b[0;32m      7\u001b[0m     \u001b[0mprint\u001b[0m\u001b[1;33m(\u001b[0m\u001b[0mam\u001b[0m\u001b[1;33m.\u001b[0m\u001b[0mmaterial\u001b[0m\u001b[1;33m)\u001b[0m\u001b[1;33m\u001b[0m\u001b[0m\n\u001b[0;32m      8\u001b[0m \u001b[1;31m#     print(material)\u001b[0m\u001b[1;33m\u001b[0m\u001b[1;33m\u001b[0m\u001b[0m\n",
      "\u001b[1;32m<ipython-input-44-054372bd3e4c>\u001b[0m in \u001b[0;36mhandleM\u001b[1;34m(self, title)\u001b[0m\n\u001b[0;32m     48\u001b[0m \u001b[1;33m\u001b[0m\u001b[0m\n\u001b[0;32m     49\u001b[0m     \u001b[1;32mdef\u001b[0m \u001b[0mhandleM\u001b[0m\u001b[1;33m(\u001b[0m\u001b[0mself\u001b[0m\u001b[1;33m,\u001b[0m\u001b[0mtitle\u001b[0m\u001b[1;33m)\u001b[0m\u001b[1;33m:\u001b[0m\u001b[1;33m\u001b[0m\u001b[0m\n\u001b[1;32m---> 50\u001b[1;33m         \u001b[0mspan\u001b[0m \u001b[1;33m=\u001b[0m \u001b[0mself\u001b[0m\u001b[1;33m.\u001b[0m\u001b[0mgetSpans\u001b[0m\u001b[1;33m(\u001b[0m\u001b[0mtitle\u001b[0m\u001b[1;33m)\u001b[0m\u001b[1;33m\u001b[0m\u001b[0m\n\u001b[0m\u001b[0;32m     51\u001b[0m \u001b[1;31m#         print(span)\u001b[0m\u001b[1;33m\u001b[0m\u001b[1;33m\u001b[0m\u001b[0m\n\u001b[0;32m     52\u001b[0m         \u001b[0mself\u001b[0m\u001b[1;33m.\u001b[0m\u001b[0mmaterial\u001b[0m \u001b[1;33m=\u001b[0m \u001b[0mself\u001b[0m\u001b[1;33m.\u001b[0m\u001b[0mmbody\u001b[0m\u001b[1;33m[\u001b[0m\u001b[0mspan\u001b[0m\u001b[1;33m[\u001b[0m\u001b[1;36m0\u001b[0m\u001b[1;33m]\u001b[0m\u001b[1;33m:\u001b[0m\u001b[0mspan\u001b[0m\u001b[1;33m[\u001b[0m\u001b[1;36m1\u001b[0m\u001b[1;33m]\u001b[0m\u001b[1;33m]\u001b[0m\u001b[1;33m\u001b[0m\u001b[0m\n",
      "\u001b[1;32m<ipython-input-44-054372bd3e4c>\u001b[0m in \u001b[0;36mgetSpans\u001b[1;34m(self, title)\u001b[0m\n\u001b[0;32m     38\u001b[0m \u001b[1;31m#         print(mbody)\u001b[0m\u001b[1;33m\u001b[0m\u001b[1;33m\u001b[0m\u001b[0m\n\u001b[0;32m     39\u001b[0m         \u001b[0mprint\u001b[0m\u001b[1;33m(\u001b[0m\u001b[0mspans\u001b[0m\u001b[1;33m)\u001b[0m\u001b[1;33m\u001b[0m\u001b[0m\n\u001b[1;32m---> 40\u001b[1;33m         \u001b[0mspan\u001b[0m \u001b[1;33m=\u001b[0m \u001b[0mspans\u001b[0m\u001b[1;33m[\u001b[0m\u001b[1;36m0\u001b[0m\u001b[1;33m]\u001b[0m\u001b[1;33m\u001b[0m\u001b[0m\n\u001b[0m\u001b[0;32m     41\u001b[0m         \u001b[0mtpan\u001b[0m \u001b[1;33m=\u001b[0m \u001b[0mspan\u001b[0m\u001b[1;33m[\u001b[0m\u001b[1;36m1\u001b[0m\u001b[1;33m]\u001b[0m\u001b[1;33m-\u001b[0m\u001b[0mspan\u001b[0m\u001b[1;33m[\u001b[0m\u001b[1;36m0\u001b[0m\u001b[1;33m]\u001b[0m\u001b[1;33m-\u001b[0m\u001b[0mlen\u001b[0m\u001b[1;33m(\u001b[0m\u001b[0mtitle\u001b[0m\u001b[1;33m)\u001b[0m\u001b[1;33m\u001b[0m\u001b[0m\n\u001b[0;32m     42\u001b[0m         \u001b[1;32mif\u001b[0m \u001b[0mabs\u001b[0m\u001b[1;33m(\u001b[0m\u001b[0mtpan\u001b[0m\u001b[1;33m)\u001b[0m \u001b[1;33m<\u001b[0m \u001b[1;36m10\u001b[0m\u001b[1;33m:\u001b[0m\u001b[1;33m\u001b[0m\u001b[0m\n",
      "\u001b[1;31mIndexError\u001b[0m: list index out of range"
     ]
    }
   ],
   "source": [
    "if __name__ == '__main__':\n",
    "    \n",
    "    url = 'https://www.chacha.top/sup_policy?id=56bf01ea58e52e506f5e'\n",
    "    am = AppMaterial(url)\n",
    "    title = '成都市武侯区鼓励楼宇参加标准化建设试点奖励'\n",
    "    am.handleM(title)\n",
    "    print(am.material)\n",
    "#     print(material)"
   ]
  },
  {
   "cell_type": "code",
   "execution_count": 43,
   "metadata": {},
   "outputs": [],
   "source": [
    "def getBin(sentence): ## 获得宾语\n",
    "    ### DIR(sentence)\n",
    "    word_array = sentence.getWordArray()\n",
    "    length = len(word_array)\n",
    "    flag = 0\n",
    "    do = 0\n",
    "    res = []\n",
    "    for i in range(length-1,-1,-1):\n",
    "        word = word_array[i]    ### dir(word)\n",
    "        lem = word.LEMMA\n",
    "        dep = word.DEPREL\n",
    "\n",
    "        if flag == 0 and do != 1:\n",
    "            if dep == \"并列关系\" or dep == \"标点符号\":\n",
    "                res.insert(0,lem)\n",
    "            elif dep == \"核心关系\":\n",
    "                res.insert(0,lem)\n",
    "                do = 1\n",
    "            else:\n",
    "                flag = 1\n",
    "            \n",
    "        if do == 1:\n",
    "            if dep == '并列关系' or dep == '定中关系' or dep == '标点符号':\n",
    "                res.insert(0,lem)\n",
    "            elif dep == \"核心关系\":\n",
    "                continue\n",
    "            else:\n",
    "                break\n",
    "        else:\n",
    "            \n",
    "            if flag == 1:\n",
    "                if dep == '动宾关系':\n",
    "                    res.insert(0,lem)\n",
    "        #             continue\n",
    "                else:\n",
    "                    flag = 2\n",
    "            if flag == 2:\n",
    "                if dep == '定中关系':\n",
    "                    res.insert(0,lem)\n",
    "                else:\n",
    "                    break\n",
    "\n",
    "    return \"\".join(res)"
   ]
  },
  {
   "cell_type": "code",
   "execution_count": 16,
   "metadata": {},
   "outputs": [],
   "source": [
    "# def getNxSpan(mbody,span):\n",
    "#     length = len(mbody)\n",
    "#     st = span[1]\n",
    "#     start = -1\n",
    "#     end = -1\n",
    "#     flag = 0\n",
    "#     for i in range(st,length):\n",
    "#         if flag == 0:\n",
    "#             isc = is_Chinese(mbody[i])\n",
    "#             if isc == True:\n",
    "#                 flag = 1\n",
    "#                 start = i\n",
    "#     #             print(mbody[i])\n",
    "#         else:\n",
    "#             if mbody[i] == '<':\n",
    "#                 end = i\n",
    "#                 break\n",
    "                \n",
    "#     return [start,end]\n",
    "\n",
    "# def is_Chinese(word):\n",
    "#     if '\\u4e00' <= word <= '\\u9fff':\n",
    "#         return True\n",
    "#     return False"
   ]
  },
  {
   "cell_type": "code",
   "execution_count": null,
   "metadata": {},
   "outputs": [],
   "source": []
  }
 ],
 "metadata": {
  "kernelspec": {
   "display_name": "Python 3",
   "language": "python",
   "name": "python3"
  },
  "language_info": {
   "codemirror_mode": {
    "name": "ipython",
    "version": 3
   },
   "file_extension": ".py",
   "mimetype": "text/x-python",
   "name": "python",
   "nbconvert_exporter": "python",
   "pygments_lexer": "ipython3",
   "version": "3.7.0"
  }
 },
 "nbformat": 4,
 "nbformat_minor": 2
}
