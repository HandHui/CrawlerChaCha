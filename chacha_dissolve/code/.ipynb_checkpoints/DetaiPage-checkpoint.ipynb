{
 "cells": [
  {
   "cell_type": "code",
   "execution_count": 1,
   "metadata": {},
   "outputs": [
    {
     "name": "stderr",
     "output_type": "stream",
     "text": [
      "C:\\Users\\as\\Anaconda3\\lib\\site-packages\\smart_open\\ssh.py:34: UserWarning: paramiko missing, opening SSH/SCP/SFTP paths will be disabled.  `pip install paramiko` to suppress\n",
      "  warnings.warn('paramiko missing, opening SSH/SCP/SFTP paths will be disabled.  `pip install paramiko` to suppress')\n"
     ]
    }
   ],
   "source": [
    "import time\n",
    "import re\n",
    "from util import *\n",
    "import requests"
   ]
  },
  {
   "cell_type": "code",
   "execution_count": 2,
   "metadata": {},
   "outputs": [],
   "source": [
    "from bs4 import BeautifulSoup"
   ]
  },
  {
   "cell_type": "code",
   "execution_count": 3,
   "metadata": {},
   "outputs": [],
   "source": [
    "import pyhanlp\n",
    "from pyhanlp import *"
   ]
  },
  {
   "cell_type": "code",
   "execution_count": 4,
   "metadata": {},
   "outputs": [],
   "source": [
    "class DetailPage:\n",
    "    \n",
    "    def __init__(self,url):\n",
    "        \n",
    "        self.source = \"\"\n",
    "        self.money = \"\"\n",
    "        self.next_url = \"\"\n",
    "        self.nxtitle = \"\"\n",
    "        self.sup_ind = \"\"\n",
    "        self.mbody = \"\"\n",
    "        \n",
    "        self.url = url\n",
    "        self.s = \"\"\n",
    "        \n",
    "#         self.material = None\n",
    "    \n",
    "    def handle_requests(self):\n",
    "        headers = {'User-Agent':'Mozilla/5.0 (Windows NT 6.1; Win64; x64) AppleWebKit/537.36 (KHTML, like Gecko) Chrome/62.0.3202.62 Safari/537.36'}\n",
    "        r = requests.get(self.url,headers=headers, timeout=6)\n",
    "        s = r.content.decode('utf-8')  ## decode\n",
    "        self.s = s\n",
    "    \n",
    "    def handle_source(self):   ###（数据来源）\n",
    "        pat = '<div class=\"policy-source-con\"><.*?>数据来源：(.*?)</div>'\n",
    "        self.source = S_search(pat,self.s,re.S)\n",
    "#         print(self.source)\n",
    "        \n",
    "    def handle_money(self):  ### 扶持金额（力度）\n",
    "        \n",
    "        pat = '<span class=\"sup-money m-r-md\">扶持金额：<span>(.*?)</span></span>'\n",
    "        money = S_search(pat,self.s,re.S)\n",
    "        self.money = money.replace('&nbsp;','')\n",
    "#         print(self.money)\n",
    "\n",
    "    def handle_nexturl(self):\n",
    "        \n",
    "        pat = r'\"sup_policy\":\\[\\{\"policy_id\":\"(.*?)\"'\n",
    "        url_id = S_search(pat,self.s,re.S)\n",
    "        self.next_url = 'https://www.chacha.top/sup_policy?id='+ url_id\n",
    "        \n",
    "    def handle_next_title(self):  ## 处理项目来源\n",
    "        \n",
    "        pat = r'<a.*?class=\"file-download\".*?>(.*?)</a>'\n",
    "        nt = S_search(pat,self.s,re.S)\n",
    "        nt = nt.replace('&nbsp;','')\n",
    "        nt = nt.strip('.pdf')\n",
    "        self.nxtitle = nt\n",
    "    def handle_supind(self):\n",
    "        pat = r'<span class=\"m-r-md\">适用行业：(.*?)</span>'\n",
    "        sup_ind = S_search(pat,self.s,re.S)\n",
    "        self.sup_ind = replace_brac(sup_ind)\n",
    "       \n",
    "    \n",
    "            \n",
    "    def handle_mbody(self):\n",
    "        soup = BeautifulSoup(self.s,'lxml')\n",
    "        mbody = soup.find_all(class_='detail-content')\n",
    "        \n",
    "        if len(mbody) == 0:\n",
    "            print('No Main Body')\n",
    "            print(self.url)\n",
    "            self.mbody = \"\"\n",
    "            return\n",
    "        self.mbody = replace_brac(str(mbody[0]))\n",
    "        \n",
    "    \n",
    "    def handle_detail(self):\n",
    "        self.handle_requests()\n",
    "        self.handle_source()\n",
    "        self.handle_money()\n",
    "        self.handle_nexturl()\n",
    "        self.handle_mbody()\n",
    "        self.handle_next_title()\n",
    "        self.handle_supind()\n",
    "#         self.handle_appendix()\n",
    "        \n",
    "    "
   ]
  },
  {
   "cell_type": "code",
   "execution_count": 5,
   "metadata": {},
   "outputs": [
    {
     "ename": "IndexError",
     "evalue": "list index out of range",
     "output_type": "error",
     "traceback": [
      "\u001b[1;31m---------------------------------------------------------------------------\u001b[0m",
      "\u001b[1;31mIndexError\u001b[0m                                Traceback (most recent call last)",
      "\u001b[1;32m<ipython-input-5-ffbf47465304>\u001b[0m in \u001b[0;36m<module>\u001b[1;34m()\u001b[0m\n\u001b[0;32m      6\u001b[0m \u001b[1;31m#     url = 'https://www.chacha.top/macro_policy?id=0366481e2dc1572048b7'\u001b[0m\u001b[1;33m\u001b[0m\u001b[1;33m\u001b[0m\u001b[0m\n\u001b[0;32m      7\u001b[0m     \u001b[0mdp\u001b[0m \u001b[1;33m=\u001b[0m \u001b[0mDetailPage\u001b[0m\u001b[1;33m(\u001b[0m\u001b[0murl\u001b[0m\u001b[1;33m)\u001b[0m\u001b[1;33m\u001b[0m\u001b[0m\n\u001b[1;32m----> 8\u001b[1;33m     \u001b[0mdp\u001b[0m\u001b[1;33m.\u001b[0m\u001b[0mhandle_detail\u001b[0m\u001b[1;33m(\u001b[0m\u001b[1;33m)\u001b[0m\u001b[1;33m\u001b[0m\u001b[0m\n\u001b[0m\u001b[0;32m      9\u001b[0m \u001b[1;31m#     print(dp.artid)\u001b[0m\u001b[1;33m\u001b[0m\u001b[1;33m\u001b[0m\u001b[0m\n\u001b[0;32m     10\u001b[0m \u001b[1;31m#     print(dp.appendix)\u001b[0m\u001b[1;33m\u001b[0m\u001b[1;33m\u001b[0m\u001b[0m\n",
      "\u001b[1;32m<ipython-input-4-34c11e7d8c41>\u001b[0m in \u001b[0;36mhandle_detail\u001b[1;34m(self)\u001b[0m\n\u001b[0;32m     69\u001b[0m         \u001b[0mself\u001b[0m\u001b[1;33m.\u001b[0m\u001b[0mhandle_money\u001b[0m\u001b[1;33m(\u001b[0m\u001b[1;33m)\u001b[0m\u001b[1;33m\u001b[0m\u001b[0m\n\u001b[0;32m     70\u001b[0m         \u001b[0mself\u001b[0m\u001b[1;33m.\u001b[0m\u001b[0mhandle_nexturl\u001b[0m\u001b[1;33m(\u001b[0m\u001b[1;33m)\u001b[0m\u001b[1;33m\u001b[0m\u001b[0m\n\u001b[1;32m---> 71\u001b[1;33m         \u001b[0mself\u001b[0m\u001b[1;33m.\u001b[0m\u001b[0mhandle_mbody\u001b[0m\u001b[1;33m(\u001b[0m\u001b[1;33m)\u001b[0m\u001b[1;33m\u001b[0m\u001b[0m\n\u001b[0m\u001b[0;32m     72\u001b[0m         \u001b[0mself\u001b[0m\u001b[1;33m.\u001b[0m\u001b[0mhandle_next_title\u001b[0m\u001b[1;33m(\u001b[0m\u001b[1;33m)\u001b[0m\u001b[1;33m\u001b[0m\u001b[0m\n\u001b[0;32m     73\u001b[0m         \u001b[0mself\u001b[0m\u001b[1;33m.\u001b[0m\u001b[0mhandle_supind\u001b[0m\u001b[1;33m(\u001b[0m\u001b[1;33m)\u001b[0m\u001b[1;33m\u001b[0m\u001b[0m\n",
      "\u001b[1;32m<ipython-input-4-34c11e7d8c41>\u001b[0m in \u001b[0;36mhandle_mbody\u001b[1;34m(self)\u001b[0m\n\u001b[0;32m     61\u001b[0m             \u001b[0mself\u001b[0m\u001b[1;33m.\u001b[0m\u001b[0mmbody\u001b[0m \u001b[1;33m=\u001b[0m \u001b[1;34m\"\"\u001b[0m\u001b[1;33m\u001b[0m\u001b[0m\n\u001b[0;32m     62\u001b[0m             \u001b[1;32mreturn\u001b[0m\u001b[1;33m\u001b[0m\u001b[0m\n\u001b[1;32m---> 63\u001b[1;33m         \u001b[0mself\u001b[0m\u001b[1;33m.\u001b[0m\u001b[0mmbody\u001b[0m \u001b[1;33m=\u001b[0m \u001b[0mreplace_brac\u001b[0m\u001b[1;33m(\u001b[0m\u001b[0mstr\u001b[0m\u001b[1;33m(\u001b[0m\u001b[0mmbody\u001b[0m\u001b[1;33m[\u001b[0m\u001b[1;36m0\u001b[0m\u001b[1;33m]\u001b[0m\u001b[1;33m)\u001b[0m\u001b[1;33m)\u001b[0m\u001b[1;33m\u001b[0m\u001b[0m\n\u001b[0m\u001b[0;32m     64\u001b[0m \u001b[1;33m\u001b[0m\u001b[0m\n\u001b[0;32m     65\u001b[0m \u001b[1;33m\u001b[0m\u001b[0m\n",
      "\u001b[1;31mIndexError\u001b[0m: list index out of range"
     ]
    }
   ],
   "source": [
    "### 文号 正文 附件  ## 适用对象 个人 企业 综合\n",
    "\n",
    "if __name__ == '__main__':\n",
    "    url = 'https://www.chacha.top/sup_item?id=6c7b28c7f7b79bdc508b'\n",
    "#     url = 'https://www.chacha.top/sup_item?id=059f8dd7988e6d0e0b59'\n",
    "#     url = 'https://www.chacha.top/macro_policy?id=0366481e2dc1572048b7'\n",
    "    dp = DetailPage(url)\n",
    "    dp.handle_detail()\n",
    "#     print(dp.artid)\n",
    "#     print(dp.appendix)"
   ]
  },
  {
   "cell_type": "code",
   "execution_count": 19,
   "metadata": {},
   "outputs": [],
   "source": [
    "# print(dp.source)\n",
    "# print(dp.money)\n",
    "# print(dp.mbody)\n",
    "\n",
    "# print(dp.next_url)\n",
    "\n",
    "# print(dp.nxtitle)\n",
    "# print(dp.sup_ind)"
   ]
  },
  {
   "cell_type": "code",
   "execution_count": 17,
   "metadata": {},
   "outputs": [],
   "source": [
    "# sentence = HanLP.parseDependency(\"成都市大邑县企业获得省、市科技奖励资助\")\n",
    "# print(sentence)\n",
    "\n",
    "# print(getBin(sentence))\n",
    "\n",
    "# sentence = HanLP.parseDependency(\"成都市大邑县培育高新技术企业集群\")\n",
    "# print(sentence)\n",
    "\n",
    "# print(getBin(sentence))"
   ]
  },
  {
   "cell_type": "code",
   "execution_count": null,
   "metadata": {},
   "outputs": [],
   "source": []
  }
 ],
 "metadata": {
  "kernelspec": {
   "display_name": "Python 3",
   "language": "python",
   "name": "python3"
  },
  "language_info": {
   "codemirror_mode": {
    "name": "ipython",
    "version": 3
   },
   "file_extension": ".py",
   "mimetype": "text/x-python",
   "name": "python",
   "nbconvert_exporter": "python",
   "pygments_lexer": "ipython3",
   "version": "3.7.0"
  }
 },
 "nbformat": 4,
 "nbformat_minor": 2
}
