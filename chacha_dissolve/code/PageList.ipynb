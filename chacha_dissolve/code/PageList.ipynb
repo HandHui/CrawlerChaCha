{
 "cells": [
  {
   "cell_type": "code",
   "execution_count": 2,
   "metadata": {},
   "outputs": [],
   "source": [
    "## 获得所有详情页的pagelist"
   ]
  },
  {
   "cell_type": "code",
   "execution_count": 1,
   "metadata": {},
   "outputs": [],
   "source": [
    "from selenium import webdriver\n",
    "import time\n",
    "import re\n",
    "from util import *\n",
    "import requests"
   ]
  },
  {
   "cell_type": "code",
   "execution_count": 2,
   "metadata": {},
   "outputs": [],
   "source": [
    "class PageList:\n",
    "    \n",
    "    def __init__(self,tpolicy):\n",
    "        self.content = []\n",
    "        \n",
    "        self.title = \"\"\n",
    "        self.url = \"\"\n",
    "        self.area = \"\"\n",
    "        self.valid_scope = \"\"  ##有效期间\n",
    "        self.sup_ind = \"\"\n",
    "        \n",
    "        self.tpolicy = tpolicy\n",
    "        \n",
    "        self.index2pol = {}\n",
    "        self.index2pol['6'] = 'regu_item'\n",
    "        self.index2pol['5'] = 'sup_item'\n",
    "#         self.index2pol['3'] = 'imple_regu'\n",
    "        \n",
    "    def get_data(self):\n",
    "        ### 标题\n",
    "        policy = self.tpolicy[2]\n",
    "        title = S_search('<div class=\"policy-title\">.*?<span.*?>(.*?)</span>.*?</div>',policy,re.S)\n",
    "        self.title = title.replace('&nbsp;','')\n",
    "        ### url\n",
    "        url_id = self.tpolicy[0]\n",
    "        data_type = self.tpolicy[1]\n",
    "        self.url = 'https://www.chacha.top/{}?id='.format(self.index2pol[data_type])+url_id\n",
    "        ### 数据类型\n",
    "#         self.poltype = self.index2pol_en[data_type]\n",
    "        ### 适用区域\n",
    "        area = S_search('<span class=\"pull-left.*?\">适用地区(.*?)</span>',policy,re.S)\n",
    "        self.area = '适用地区'+area\n",
    "        \n",
    "        ### 有效期限\n",
    "        valid_scope = S_search('<span class=\"pull-left.*?\">有效期限(.*?)</span>',policy,re.S)\n",
    "        valid_scope = re.sub('<.*?>','',valid_scope)\n",
    "        self.valid_scope = '有效期限'+valid_scope\n",
    "        \n",
    "        ### 支持行业\n",
    "        pat = r'<span class=\"pull-left m-r-md text-gray sup-ind\">.*?<span>(.*?)</span></span></div>'\n",
    "        sup_ind = S_search(pat,policy,re.S)\n",
    "        self.sup_ind = \"适用行业：\"+sup_ind\n",
    "        \n",
    "    def handle_content(self):\n",
    "        self.get_data()\n",
    "#         tb1 = ['标题','详情页','适用区域',','有效期限','适用行业']\n",
    "        self.content =[self.title,self.url,self.area,self.valid_scope,self.sup_ind]"
   ]
  },
  {
   "cell_type": "code",
   "execution_count": 21,
   "metadata": {},
   "outputs": [
    {
     "name": "stdout",
     "output_type": "stream",
     "text": [
      "10\n",
      "['成都市成华区鼓励提高楼宇自持率', 'https://www.chacha.top/sup_item?id=2bf84bd64ab78e39c771', '适用地区：成都市成华区', '有效期限：2018-07-19至 2021-07-19', '适用行业：共享经济']\n",
      "['成都市成华区鼓励收购已散售楼宇统一运营', 'https://www.chacha.top/sup_item?id=86d9d21887a24c8404e5', '适用地区：成都市成华区', '有效期限：2018-07-19至 2021-07-19', '适用行业：共享经济']\n",
      "['成都市成华区鼓励盘活闲置楼宇', 'https://www.chacha.top/sup_item?id=059f8dd7988e6d0e0b59', '适用地区：成都市成华区', '有效期限：2018-07-19至 2021-07-19', '适用行业：共享经济']\n",
      "['成都市成华区鼓励楼宇统一结算、统一收银', 'https://www.chacha.top/sup_item?id=8b0b818bab15e0824642', '适用地区：成都市成华区', '有效期限：2018-07-19至 2021-07-19', '适用行业：共享经济']\n",
      "['成都市成华区鼓励楼宇提高属地法人注册率', 'https://www.chacha.top/sup_item?id=edef2e3df99769fafe00', '适用地区：成都市成华区', '有效期限：2018-07-19至 2021-07-19', '适用行业：共享经济']\n",
      "['成都市成华区鼓励楼宇提高税收贡献', 'https://www.chacha.top/sup_item?id=780cdfc9ea278b9eae4a', '适用地区：成都市成华区', '有效期限：2018-07-19至 2021-07-19', '适用行业：共享经济']\n",
      "['成都市成华区鼓励楼宇提高专业特色', 'https://www.chacha.top/sup_item?id=8b48f068695d27c66e52', '适用地区：成都市成华区', '有效期限：2018-07-19至 2021-07-19', '适用行业：共享经济']\n",
      "['成都市成华区鼓励楼宇积极参与甲级商务楼宇评定', 'https://www.chacha.top/sup_item?id=9e3a61f4056c84a7500c', '适用地区：成都市成华区', '有效期限：2018-07-19至 2021-07-19', '适用行业：共享经济']\n",
      "['成都市成华区鼓励楼宇引进和培育总部企业', 'https://www.chacha.top/sup_item?id=b43ef2a54e5f822efc7c', '适用地区：成都市成华区', '有效期限：2018-07-19至 2021-07-19', '适用行业：共享经济']\n",
      "['成都市成华区鼓励楼宇引进知名商业零售品牌', 'https://www.chacha.top/sup_item?id=cec42409b1226cd1a206', '适用地区：成都市成华区', '有效期限：2018-07-19至 2021-07-19', '适用行业：共享经济']\n"
     ]
    }
   ],
   "source": [
    "if __name__ == '__main__':\n",
    "#     url = 'https://www.chacha.top/origin?area=true'\n",
    "    url = 'https://www.chacha.top/sup?area=true'\n",
    "    path1 = '../sfdrive/geckodriver.exe'\n",
    "    browser = webdriver.Firefox(executable_path = path1)\n",
    "    browser.get(url)\n",
    "    time.sleep(1)\n",
    "    \n",
    "    text = browser.page_source\n",
    "    \n",
    "    pat = r'<ul class=\"clearfix policy-data\">(.*?)</ul>'\n",
    "    con = re.search(pat,text,re.S)\n",
    "    con = con.groups()[0]\n",
    "\n",
    "    lipat = r'<li class=\"sup-list-item m-b-md\".*?data-id=\"(.*?)\" data-type=\"(.*?)\">(.*?)</li>'\n",
    "    policy_lst = re.findall(lipat,con,re.S)\n",
    "    \n",
    "    length = len(policy_lst)\n",
    "    print(length)\n",
    "    for i in range(length):\n",
    "        plist = PageList(policy_lst[i])\n",
    "        plist.handle_content()\n",
    "        print(plist.content)"
   ]
  },
  {
   "cell_type": "code",
   "execution_count": null,
   "metadata": {},
   "outputs": [],
   "source": []
  }
 ],
 "metadata": {
  "kernelspec": {
   "display_name": "Python 3",
   "language": "python",
   "name": "python3"
  },
  "language_info": {
   "codemirror_mode": {
    "name": "ipython",
    "version": 3
   },
   "file_extension": ".py",
   "mimetype": "text/x-python",
   "name": "python",
   "nbconvert_exporter": "python",
   "pygments_lexer": "ipython3",
   "version": "3.7.0"
  }
 },
 "nbformat": 4,
 "nbformat_minor": 2
}
