{
 "cells": [
  {
   "cell_type": "code",
   "execution_count": null,
   "metadata": {},
   "outputs": [],
   "source": [
    "from selenium import webdriver\n",
    "\n",
    "import time\n",
    "\n",
    "import re\n",
    "\n",
    "from util import *\n",
    "\n",
    "import requests\n",
    "from PageList import PageList"
   ]
  },
  {
   "cell_type": "code",
   "execution_count": null,
   "metadata": {},
   "outputs": [],
   "source": [
    "import json"
   ]
  },
  {
   "cell_type": "code",
   "execution_count": null,
   "metadata": {},
   "outputs": [],
   "source": [
    "from DetaiPage import DetailPage"
   ]
  },
  {
   "cell_type": "code",
   "execution_count": null,
   "metadata": {},
   "outputs": [],
   "source": [
    "### 鼠标移动构建加载更多数据\n",
    "\n",
    "def MouseDown(browser,num,i):\n",
    "    \n",
    "#     i = 3000\n",
    "    for k in range(num):\n",
    "#         print(k)\n",
    "        js = \"window.scrollTo(0,{});\".format(str(i))\n",
    "        browser.execute_script(js)\n",
    "        time.sleep(2)\n",
    "        i += 3000\n",
    "    return i\n",
    "\n"
   ]
  },
  {
   "cell_type": "code",
   "execution_count": null,
   "metadata": {},
   "outputs": [],
   "source": [
    "url = 'https://www.chacha.top/origin?area=true'\n",
    "path1 = '../../../sfdrive/geckodriver.exe'\n",
    "browser = webdriver.Firefox(executable_path = path1)\n",
    "browser.get(url)\n",
    "time.sleep(1)"
   ]
  },
  {
   "cell_type": "code",
   "execution_count": null,
   "metadata": {},
   "outputs": [],
   "source": [
    "# browser.get(url)\n",
    "def loadPage(browser):\n",
    "    tlength = 0\n",
    "    i = 3000\n",
    "    while True:\n",
    "        i = MouseDown(browser,5,i)  ##10次100条\n",
    "        time.sleep(2)\n",
    "        text = browser.page_source\n",
    "\n",
    "        ## 拿到详情页列表\n",
    "        pat = r'<ul class=\"clearfix policy-data\">(.*?)</ul>'\n",
    "        con = re.search(pat,text,re.S)\n",
    "        con = con.groups()[0]\n",
    "\n",
    "        lipat = r'<li class=\"sup-list-item m-b-md\".*?data-id=\"(.*?)\" data-type=\"(.*?)\">(.*?)</li>'\n",
    "        policy_lst = re.findall(lipat,con,re.S)\n",
    "        length = len(policy_lst)\n",
    "#         if length > 100:\n",
    "#             break\n",
    "        print(str(length)+\"/79000\")\n",
    "        if length <= tlength:\n",
    "            break\n",
    "        tlength = length"
   ]
  },
  {
   "cell_type": "code",
   "execution_count": null,
   "metadata": {},
   "outputs": [],
   "source": [
    "print(\"Loading Page\")\n",
    "loadPage(browser)\n",
    "time.sleep(2)\n",
    "text = browser.page_source\n",
    "print(\"page is loaded\")\n",
    "\n"
   ]
  },
  {
   "cell_type": "markdown",
   "metadata": {},
   "source": [
    "####  保存中间结果，browser加载完成后，其中内容存储到中间文件tmp.txt中"
   ]
  },
  {
   "cell_type": "code",
   "execution_count": null,
   "metadata": {},
   "outputs": [],
   "source": [
    "with open('tmp.txt','w+',encoding='utf-8') as fout:\n",
    "    fout.write(text)\n",
    "fout.close()"
   ]
  },
  {
   "cell_type": "markdown",
   "metadata": {},
   "source": [
    "####  加载中间结果"
   ]
  },
  {
   "cell_type": "code",
   "execution_count": null,
   "metadata": {},
   "outputs": [],
   "source": [
    "with open('tmp.txt','r',encoding='utf-8') as fin:\n",
    "    text = fin.read()\n",
    "fin.close()"
   ]
  },
  {
   "cell_type": "markdown",
   "metadata": {},
   "source": [
    "#### 处理详情页面"
   ]
  },
  {
   "cell_type": "code",
   "execution_count": null,
   "metadata": {},
   "outputs": [],
   "source": [
    "# text = browser.page_source\n",
    "\n",
    "pat = r'<ul class=\"clearfix policy-data\">(.*?)</ul>'\n",
    "con = re.search(pat,text,re.S)\n",
    "con = con.groups()[0]\n",
    "\n",
    "lipat = r'<li class=\"sup-list-item m-b-md\".*?data-id=\"(.*?)\" data-type=\"(.*?)\">(.*?)</li>'\n",
    "policy_lst = re.findall(lipat,con,re.S)\n",
    "\n",
    "\n",
    "length = len(policy_lst)\n",
    "print(length)\n",
    "\n",
    "clst = []\n",
    "for i in range(length):\n",
    "    try:\n",
    "        if i<= 30999:\n",
    "            print(str(i+1)+'/'+str(length))\n",
    "            continue\n",
    "        print(str(i+1)+'/'+str(length))\n",
    "        tdict = {}\n",
    "        tdict['idx'] = i\n",
    "\n",
    "        plist = PageList(policy_lst[i])\n",
    "        plist.handle_content()\n",
    "        alst = plist.content\n",
    "        url = plist.content[1]\n",
    "\n",
    "\n",
    "        dp = DetailPage(url)\n",
    "        dp.handle_detail()\n",
    "\n",
    "        if len(dp.mbody) < 500:\n",
    "            continue\n",
    "\n",
    "        ks = ['title','url','area','agent','time','timespan']\n",
    "\n",
    "\n",
    "        tdict['title'] = alst[0]\n",
    "        tdict['url'] = alst[1]\n",
    "\n",
    "    #     tt = alst[3].split(':')  ## 适用区域\n",
    "        tt = re.split('[:：]',alst[3])  ## 适用区域\n",
    "        if len(tt) < 2:\n",
    "            tdict['area'] = ''\n",
    "        else:\n",
    "            tdict['area'] = tt[1].strip()\n",
    "\n",
    "        # tt = alst[4].split(':')  ## 发文机构\n",
    "        tt = re.split('[:：]',alst[4])\n",
    "        if len(tt) < 2:\n",
    "            tdict['agent'] = ''\n",
    "        else:\n",
    "            tdict['agent'] = tt[1].strip()\n",
    "\n",
    "    #     tt = alst[5].split('：')  ## 发文时间\n",
    "        tt = re.split('[:：]',alst[5])\n",
    "        if len(tt) < 2:\n",
    "            tdict['time'] = ''\n",
    "        else:\n",
    "            tdict['time'] = tt[1]\n",
    "\n",
    "    #     tt = alst[6].split('：')  ## 发文时间\n",
    "        tt = re.split('[:：]',alst[6])\n",
    "        if len(tt) < 2:\n",
    "            tdict['timespan'] = []\n",
    "        else:\n",
    "            tspan = tt[1]\n",
    "            tspan = tspan.split('至')\n",
    "            if len(tspan) == 2:\n",
    "                tdict['timespan'] = tspan\n",
    "            else:\n",
    "                tdict['timespan'] = [tt[1][:-3],-1]\n",
    "\n",
    "        artid = dp.artid\n",
    "        alst = re.split('[:：]',artid)\n",
    "        if len(alst)<2:\n",
    "            tdict['artid'] = \"\"\n",
    "        else:\n",
    "            tdict['artid'] = alst[1]\n",
    "\n",
    "        tdict['appendix'] = dp.appendix\n",
    "        tdict['mainbody'] = dp.mbody\n",
    "\n",
    "        clst.append(tdict)\n",
    "\n",
    "        time.sleep(1)\n",
    "\n",
    "        if (i+1)%1000 == 0:\n",
    "            print(\"开始插入json\")\n",
    "            with open('../data/result'+str(i)+'.json','w+',encoding='utf-8') as fout:\n",
    "                json.dump(clst,fout,ensure_ascii=False,indent = 4)\n",
    "            print(\"完成插入json\")\n",
    "    except:\n",
    "        time.sleep(60)\n",
    "        print('**********************requests.get(url) Eroor!!!********************************')\n",
    "    \n",
    "    \n",
    "#     break\n",
    "\n",
    "print(\"开始插入json\")\n",
    "with open('../data/result.json','w+',encoding='utf-8') as fout:\n",
    "    json.dump(clst,fout,ensure_ascii=False,indent = 4)\n",
    "print(\"完成插入json\")"
   ]
  },
  {
   "cell_type": "code",
   "execution_count": null,
   "metadata": {},
   "outputs": [],
   "source": [
    "# 本次爬虫中断两次\n",
    "#3999 为第一次的最后\n",
    "#30999 为第二次的最后"
   ]
  },
  {
   "cell_type": "code",
   "execution_count": null,
   "metadata": {},
   "outputs": [],
   "source": []
  }
 ],
 "metadata": {
  "kernelspec": {
   "display_name": "Python 3",
   "language": "python",
   "name": "python3"
  },
  "language_info": {
   "codemirror_mode": {
    "name": "ipython",
    "version": 3
   },
   "file_extension": ".py",
   "mimetype": "text/x-python",
   "name": "python",
   "nbconvert_exporter": "python",
   "pygments_lexer": "ipython3",
   "version": "3.7.0"
  }
 },
 "nbformat": 4,
 "nbformat_minor": 2
}
