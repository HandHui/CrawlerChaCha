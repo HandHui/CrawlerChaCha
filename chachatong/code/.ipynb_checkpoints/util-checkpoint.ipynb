{
 "cells": [
  {
   "cell_type": "code",
   "execution_count": 1,
   "metadata": {},
   "outputs": [],
   "source": [
    "import re"
   ]
  },
  {
   "cell_type": "code",
   "execution_count": 3,
   "metadata": {},
   "outputs": [],
   "source": [
    "def S_search(pat,text,flag):\n",
    "    '''\n",
    "    re.search()的进化版\n",
    "    '''\n",
    "    res = \"\"\n",
    "    if flag == None:\n",
    "        con = re.search(pat,text)\n",
    "    else:\n",
    "        con = re.search(pat,text,flag)\n",
    "\n",
    "    if con == None:\n",
    "        res = \"\"\n",
    "    else:\n",
    "        res = con.groups()[0]\n",
    "    \n",
    "    return res"
   ]
  },
  {
   "cell_type": "code",
   "execution_count": null,
   "metadata": {},
   "outputs": [],
   "source": []
  }
 ],
 "metadata": {
  "kernelspec": {
   "display_name": "Python 3",
   "language": "python",
   "name": "python3"
  },
  "language_info": {
   "codemirror_mode": {
    "name": "ipython",
    "version": 3
   },
   "file_extension": ".py",
   "mimetype": "text/x-python",
   "name": "python",
   "nbconvert_exporter": "python",
   "pygments_lexer": "ipython3",
   "version": "3.7.0"
  }
 },
 "nbformat": 4,
 "nbformat_minor": 2
}
