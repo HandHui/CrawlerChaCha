{
 "cells": [
  {
   "cell_type": "code",
   "execution_count": 1,
   "metadata": {},
   "outputs": [],
   "source": [
    "import time\n",
    "import re\n",
    "from util import *\n",
    "import requests"
   ]
  },
  {
   "cell_type": "code",
   "execution_count": 14,
   "metadata": {},
   "outputs": [],
   "source": [
    "from bs4 import BeautifulSoup"
   ]
  },
  {
   "cell_type": "code",
   "execution_count": 67,
   "metadata": {},
   "outputs": [],
   "source": [
    "class DetailPage:\n",
    "    \n",
    "    def __init__(self,url):\n",
    "        self.artid = \"\"\n",
    "        self.mbody = \"\"\n",
    "        self.appendix = []\n",
    "        \n",
    "        self.url = url\n",
    "        self.s = \"\"\n",
    "    \n",
    "    def handle_requests(self):\n",
    "        headers = {'User-Agent':'Mozilla/5.0 (Windows NT 6.1; Win64; x64) AppleWebKit/537.36 (KHTML, like Gecko) Chrome/62.0.3202.62 Safari/537.36'}\n",
    "        r = requests.get(self.url,headers=headers, timeout=6)\n",
    "        s = r.content.decode('utf-8')  ## decode\n",
    "        self.s = s\n",
    "    \n",
    "    def handle_artid(self):\n",
    "        pat = '<span class=\"m-l-md\">文号(.*?)</span>'\n",
    "        artid = S_search(pat,self.s,re.S)\n",
    "        if artid.strip() == \"\":\n",
    "            print('No artid')\n",
    "            print(self.url)\n",
    "            self.artid = \"\"\n",
    "        else:\n",
    "            self.artid = '文号'+artid\n",
    "            \n",
    "    def handle_mbody(self):\n",
    "        soup = BeautifulSoup(self.s,'lxml')\n",
    "        mbody = soup.find_all(class_='detail-content')\n",
    "        if mbody == 0:\n",
    "            print('No Main Body')\n",
    "            print(self.url)\n",
    "            self.mbody = \"\"\n",
    "            return\n",
    "        self.mbody = str(mbody[0])\n",
    "        \n",
    "    def handle_appendix(self):\n",
    "        appendix = S_search(r'\"file\":(.*?)\"history\"',self.s,re.S)\n",
    "#         print(appendix)\n",
    "        if appendix == '[],':\n",
    "            print('No Appendix')\n",
    "            print(self.url)\n",
    "            self.appendix = []\n",
    "            return\n",
    "        alst = eval(appendix[:-1])\n",
    "        \n",
    "#         print(alst)\n",
    "        for a in alst:\n",
    "            b = {}\n",
    "            b['name'] = a['name']\n",
    "            b['url'] = 'http:'+a['save_url']\n",
    "            self.appendix.append(b)\n",
    "    \n",
    "    def handle_detail(self):\n",
    "        self.handle_requests()\n",
    "        self.handle_artid()\n",
    "        self.handle_mbody()\n",
    "        self.handle_appendix()\n",
    "        \n",
    "    "
   ]
  },
  {
   "cell_type": "code",
   "execution_count": 68,
   "metadata": {},
   "outputs": [
    {
     "name": "stdout",
     "output_type": "stream",
     "text": [
      "No artid\n",
      "https://www.chacha.top/imple_regu?id=498c2401eac37f63345d\n",
      "No Appendix\n",
      "https://www.chacha.top/imple_regu?id=498c2401eac37f63345d\n",
      "\n",
      "[]\n"
     ]
    }
   ],
   "source": [
    "### 文号 正文 附件  ## 适用对象 个人 企业 综合\n",
    "\n",
    "if __name__ == '__main__':\n",
    "    url = 'https://www.chacha.top/imple_regu?id=498c2401eac37f63345d'\n",
    "#     url = 'https://www.chacha.top/macro_policy?id=0366481e2dc1572048b7'\n",
    "    dp = DetailPage(url)\n",
    "    dp.handle_detail()\n",
    "    print(dp.artid)\n",
    "    print(dp.appendix)"
   ]
  },
  {
   "cell_type": "code",
   "execution_count": null,
   "metadata": {},
   "outputs": [],
   "source": []
  },
  {
   "cell_type": "code",
   "execution_count": null,
   "metadata": {},
   "outputs": [],
   "source": []
  },
  {
   "cell_type": "code",
   "execution_count": null,
   "metadata": {},
   "outputs": [],
   "source": []
  }
 ],
 "metadata": {
  "kernelspec": {
   "display_name": "Python 3",
   "language": "python",
   "name": "python3"
  },
  "language_info": {
   "codemirror_mode": {
    "name": "ipython",
    "version": 3
   },
   "file_extension": ".py",
   "mimetype": "text/x-python",
   "name": "python",
   "nbconvert_exporter": "python",
   "pygments_lexer": "ipython3",
   "version": "3.7.0"
  }
 },
 "nbformat": 4,
 "nbformat_minor": 2
}
