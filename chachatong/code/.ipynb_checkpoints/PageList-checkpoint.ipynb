{
 "cells": [
  {
   "cell_type": "code",
   "execution_count": 1,
   "metadata": {},
   "outputs": [],
   "source": [
    "## 获得所有详情页的pagelist"
   ]
  },
  {
   "cell_type": "code",
   "execution_count": 2,
   "metadata": {},
   "outputs": [],
   "source": [
    "from selenium import webdriver\n",
    "import time\n",
    "import re\n",
    "from util import *\n",
    "import requests"
   ]
  },
  {
   "cell_type": "code",
   "execution_count": 16,
   "metadata": {},
   "outputs": [],
   "source": [
    "class PageList:\n",
    "    \n",
    "    def __init__(self,tpolicy):\n",
    "        self.content = []\n",
    "        \n",
    "        self.title = \"\"\n",
    "        self.url = \"\"\n",
    "        self.poltype = \"\"\n",
    "        self.area = \"\"\n",
    "        self.issue_agent = \"\"  ## 发文机构\n",
    "        self.issue_time = \"\"   ##发文时间\n",
    "        self.valid_scope = \"\"  ##有效期间\n",
    "        \n",
    "        self.tpolicy = tpolicy\n",
    "        \n",
    "        self.index2pol = {}\n",
    "        self.index2pol['1'] = 'macro_policy'\n",
    "        self.index2pol['2'] = 'sup_policy'\n",
    "        self.index2pol['3'] = 'imple_regu'\n",
    "        \n",
    "        self.index2pol_en = {}\n",
    "        self.index2pol_en['1'] = '指导性文件'\n",
    "        self.index2pol_en['2'] = '扶持政策'\n",
    "        self.index2pol_en['3'] = '实施细则'\n",
    "        \n",
    "    def get_data(self):\n",
    "        ### 标题\n",
    "        policy = self.tpolicy[2]\n",
    "        title = S_search('<div class=\"policy-title\">.*?<span.*?>(.*?)</span>.*?</div>',policy,re.S)\n",
    "        self.title = title.replace('&nbsp;','')\n",
    "        ### url\n",
    "        url_id = self.tpolicy[0]\n",
    "        data_type = self.tpolicy[1]\n",
    "        self.url = 'https://www.chacha.top/{}?id='.format(self.index2pol[data_type])+url_id\n",
    "        ### 数据类型\n",
    "        self.poltype = self.index2pol_en[data_type]\n",
    "        ### 适用区域\n",
    "        area = S_search('<span class=\"pull-left.*?\">适用地区(.*?)</span>',policy,re.S)\n",
    "        self.area = '适用地区'+area\n",
    "        ## 发文机构\n",
    "        issue_agent = S_search('<span class=\"m-l-sm gov-agen\">(.*?)</span>',policy,re.S)\n",
    "        self.issue_agent = re.sub('<.*?>','',issue_agent)\n",
    "        ## 发文时间\n",
    "        self.issue_time = S_search('<span class=\"m-l-sm\">(.*?)</span>',policy,re.S)\n",
    "        ### 有效期限\n",
    "        valid_scope = S_search('<span class=\"pull-left.*?\">有效期限(.*?)</span>',policy,re.S)\n",
    "        valid_scope = re.sub('<.*?>','',valid_scope)\n",
    "        self.valid_scope = '有效期限'+valid_scope\n",
    "        \n",
    "    def handle_content(self):\n",
    "        self.get_data()\n",
    "#         tb1 = ['标题','详情页','类型','适用区域','发文机构','发文时间','有效期限']\n",
    "        self.content =[self.title,self.url,self.poltype,self.area,self.issue_agent,self.issue_time,self.valid_scope]"
   ]
  },
  {
   "cell_type": "code",
   "execution_count": 4,
   "metadata": {},
   "outputs": [
    {
     "name": "stdout",
     "output_type": "stream",
     "text": [
      "10\n",
      "[]\n",
      "[]\n",
      "[]\n",
      "[]\n",
      "[]\n",
      "[]\n",
      "[]\n",
      "[]\n",
      "[]\n",
      "[]\n"
     ]
    }
   ],
   "source": [
    "if __name__ == '__main__':\n",
    "    url = 'https://www.chacha.top/origin?area=true'\n",
    "    path1 = '../sfdrive/geckodriver.exe'\n",
    "    browser = webdriver.Firefox(executable_path = path1)\n",
    "    browser.get(url)\n",
    "    time.sleep(1)\n",
    "    \n",
    "    text = browser.page_source\n",
    "    \n",
    "    pat = r'<ul class=\"clearfix policy-data\">(.*?)</ul>'\n",
    "    con = re.search(pat,text,re.S)\n",
    "    con = con.groups()[0]\n",
    "\n",
    "    lipat = r'<li class=\"sup-list-item m-b-md\".*?data-id=\"(.*?)\" data-type=\"(.*?)\">(.*?)</li>'\n",
    "    policy_lst = re.findall(lipat,con,re.S)\n",
    "    \n",
    "    length = len(policy_lst)\n",
    "    print(length)\n",
    "    for i in range(length):\n",
    "        plist = PageList(policy_lst[i])\n",
    "        plist.handle_content()\n",
    "        print(plist.content)"
   ]
  },
  {
   "cell_type": "code",
   "execution_count": null,
   "metadata": {},
   "outputs": [],
   "source": []
  }
 ],
 "metadata": {
  "kernelspec": {
   "display_name": "Python 3",
   "language": "python",
   "name": "python3"
  },
  "language_info": {
   "codemirror_mode": {
    "name": "ipython",
    "version": 3
   },
   "file_extension": ".py",
   "mimetype": "text/x-python",
   "name": "python",
   "nbconvert_exporter": "python",
   "pygments_lexer": "ipython3",
   "version": "3.7.0"
  }
 },
 "nbformat": 4,
 "nbformat_minor": 2
}
